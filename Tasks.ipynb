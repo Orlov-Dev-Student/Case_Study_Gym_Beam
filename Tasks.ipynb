{
 "cells": [
  {
   "cell_type": "code",
   "execution_count": 1,
   "id": "58712dcf-93a7-41dc-bfba-7e562b236c35",
   "metadata": {},
   "outputs": [
    {
     "ename": "FileNotFoundError",
     "evalue": "[Errno 2] No such file or directory: 'in/tables/sales_order.csv'",
     "output_type": "error",
     "traceback": [
      "\u001b[1;31m---------------------------------------------------------------------------\u001b[0m",
      "\u001b[1;31mFileNotFoundError\u001b[0m                         Traceback (most recent call last)",
      "Cell \u001b[1;32mIn[1], line 3\u001b[0m\n\u001b[0;32m      1\u001b[0m \u001b[38;5;28;01mimport\u001b[39;00m \u001b[38;5;21;01mpandas\u001b[39;00m \u001b[38;5;28;01mas\u001b[39;00m \u001b[38;5;21;01mpd\u001b[39;00m\n\u001b[0;32m      2\u001b[0m \u001b[38;5;66;03m#read_data\u001b[39;00m\n\u001b[1;32m----> 3\u001b[0m sales_order \u001b[38;5;241m=\u001b[39m pd\u001b[38;5;241m.\u001b[39mread_csv(\u001b[38;5;124m'\u001b[39m\u001b[38;5;124min/tables/sales_order.csv\u001b[39m\u001b[38;5;124m'\u001b[39m)\n\u001b[0;32m      4\u001b[0m sales_order_item \u001b[38;5;241m=\u001b[39m pd\u001b[38;5;241m.\u001b[39mread_csv(\u001b[38;5;124m'\u001b[39m\u001b[38;5;124min/tables/sales_order_item.csv\u001b[39m\u001b[38;5;124m'\u001b[39m)\n\u001b[0;32m      5\u001b[0m hu \u001b[38;5;241m=\u001b[39m pd\u001b[38;5;241m.\u001b[39mread_csv(\u001b[38;5;124m'\u001b[39m\u001b[38;5;124min/tables/HU_postal.csv\u001b[39m\u001b[38;5;124m'\u001b[39m)\n",
      "File \u001b[1;32m~\\anaconda3\\Lib\\site-packages\\pandas\\io\\parsers\\readers.py:1026\u001b[0m, in \u001b[0;36mread_csv\u001b[1;34m(filepath_or_buffer, sep, delimiter, header, names, index_col, usecols, dtype, engine, converters, true_values, false_values, skipinitialspace, skiprows, skipfooter, nrows, na_values, keep_default_na, na_filter, verbose, skip_blank_lines, parse_dates, infer_datetime_format, keep_date_col, date_parser, date_format, dayfirst, cache_dates, iterator, chunksize, compression, thousands, decimal, lineterminator, quotechar, quoting, doublequote, escapechar, comment, encoding, encoding_errors, dialect, on_bad_lines, delim_whitespace, low_memory, memory_map, float_precision, storage_options, dtype_backend)\u001b[0m\n\u001b[0;32m   1013\u001b[0m kwds_defaults \u001b[38;5;241m=\u001b[39m _refine_defaults_read(\n\u001b[0;32m   1014\u001b[0m     dialect,\n\u001b[0;32m   1015\u001b[0m     delimiter,\n\u001b[1;32m   (...)\u001b[0m\n\u001b[0;32m   1022\u001b[0m     dtype_backend\u001b[38;5;241m=\u001b[39mdtype_backend,\n\u001b[0;32m   1023\u001b[0m )\n\u001b[0;32m   1024\u001b[0m kwds\u001b[38;5;241m.\u001b[39mupdate(kwds_defaults)\n\u001b[1;32m-> 1026\u001b[0m \u001b[38;5;28;01mreturn\u001b[39;00m _read(filepath_or_buffer, kwds)\n",
      "File \u001b[1;32m~\\anaconda3\\Lib\\site-packages\\pandas\\io\\parsers\\readers.py:620\u001b[0m, in \u001b[0;36m_read\u001b[1;34m(filepath_or_buffer, kwds)\u001b[0m\n\u001b[0;32m    617\u001b[0m _validate_names(kwds\u001b[38;5;241m.\u001b[39mget(\u001b[38;5;124m\"\u001b[39m\u001b[38;5;124mnames\u001b[39m\u001b[38;5;124m\"\u001b[39m, \u001b[38;5;28;01mNone\u001b[39;00m))\n\u001b[0;32m    619\u001b[0m \u001b[38;5;66;03m# Create the parser.\u001b[39;00m\n\u001b[1;32m--> 620\u001b[0m parser \u001b[38;5;241m=\u001b[39m TextFileReader(filepath_or_buffer, \u001b[38;5;241m*\u001b[39m\u001b[38;5;241m*\u001b[39mkwds)\n\u001b[0;32m    622\u001b[0m \u001b[38;5;28;01mif\u001b[39;00m chunksize \u001b[38;5;129;01mor\u001b[39;00m iterator:\n\u001b[0;32m    623\u001b[0m     \u001b[38;5;28;01mreturn\u001b[39;00m parser\n",
      "File \u001b[1;32m~\\anaconda3\\Lib\\site-packages\\pandas\\io\\parsers\\readers.py:1620\u001b[0m, in \u001b[0;36mTextFileReader.__init__\u001b[1;34m(self, f, engine, **kwds)\u001b[0m\n\u001b[0;32m   1617\u001b[0m     \u001b[38;5;28mself\u001b[39m\u001b[38;5;241m.\u001b[39moptions[\u001b[38;5;124m\"\u001b[39m\u001b[38;5;124mhas_index_names\u001b[39m\u001b[38;5;124m\"\u001b[39m] \u001b[38;5;241m=\u001b[39m kwds[\u001b[38;5;124m\"\u001b[39m\u001b[38;5;124mhas_index_names\u001b[39m\u001b[38;5;124m\"\u001b[39m]\n\u001b[0;32m   1619\u001b[0m \u001b[38;5;28mself\u001b[39m\u001b[38;5;241m.\u001b[39mhandles: IOHandles \u001b[38;5;241m|\u001b[39m \u001b[38;5;28;01mNone\u001b[39;00m \u001b[38;5;241m=\u001b[39m \u001b[38;5;28;01mNone\u001b[39;00m\n\u001b[1;32m-> 1620\u001b[0m \u001b[38;5;28mself\u001b[39m\u001b[38;5;241m.\u001b[39m_engine \u001b[38;5;241m=\u001b[39m \u001b[38;5;28mself\u001b[39m\u001b[38;5;241m.\u001b[39m_make_engine(f, \u001b[38;5;28mself\u001b[39m\u001b[38;5;241m.\u001b[39mengine)\n",
      "File \u001b[1;32m~\\anaconda3\\Lib\\site-packages\\pandas\\io\\parsers\\readers.py:1880\u001b[0m, in \u001b[0;36mTextFileReader._make_engine\u001b[1;34m(self, f, engine)\u001b[0m\n\u001b[0;32m   1878\u001b[0m     \u001b[38;5;28;01mif\u001b[39;00m \u001b[38;5;124m\"\u001b[39m\u001b[38;5;124mb\u001b[39m\u001b[38;5;124m\"\u001b[39m \u001b[38;5;129;01mnot\u001b[39;00m \u001b[38;5;129;01min\u001b[39;00m mode:\n\u001b[0;32m   1879\u001b[0m         mode \u001b[38;5;241m+\u001b[39m\u001b[38;5;241m=\u001b[39m \u001b[38;5;124m\"\u001b[39m\u001b[38;5;124mb\u001b[39m\u001b[38;5;124m\"\u001b[39m\n\u001b[1;32m-> 1880\u001b[0m \u001b[38;5;28mself\u001b[39m\u001b[38;5;241m.\u001b[39mhandles \u001b[38;5;241m=\u001b[39m get_handle(\n\u001b[0;32m   1881\u001b[0m     f,\n\u001b[0;32m   1882\u001b[0m     mode,\n\u001b[0;32m   1883\u001b[0m     encoding\u001b[38;5;241m=\u001b[39m\u001b[38;5;28mself\u001b[39m\u001b[38;5;241m.\u001b[39moptions\u001b[38;5;241m.\u001b[39mget(\u001b[38;5;124m\"\u001b[39m\u001b[38;5;124mencoding\u001b[39m\u001b[38;5;124m\"\u001b[39m, \u001b[38;5;28;01mNone\u001b[39;00m),\n\u001b[0;32m   1884\u001b[0m     compression\u001b[38;5;241m=\u001b[39m\u001b[38;5;28mself\u001b[39m\u001b[38;5;241m.\u001b[39moptions\u001b[38;5;241m.\u001b[39mget(\u001b[38;5;124m\"\u001b[39m\u001b[38;5;124mcompression\u001b[39m\u001b[38;5;124m\"\u001b[39m, \u001b[38;5;28;01mNone\u001b[39;00m),\n\u001b[0;32m   1885\u001b[0m     memory_map\u001b[38;5;241m=\u001b[39m\u001b[38;5;28mself\u001b[39m\u001b[38;5;241m.\u001b[39moptions\u001b[38;5;241m.\u001b[39mget(\u001b[38;5;124m\"\u001b[39m\u001b[38;5;124mmemory_map\u001b[39m\u001b[38;5;124m\"\u001b[39m, \u001b[38;5;28;01mFalse\u001b[39;00m),\n\u001b[0;32m   1886\u001b[0m     is_text\u001b[38;5;241m=\u001b[39mis_text,\n\u001b[0;32m   1887\u001b[0m     errors\u001b[38;5;241m=\u001b[39m\u001b[38;5;28mself\u001b[39m\u001b[38;5;241m.\u001b[39moptions\u001b[38;5;241m.\u001b[39mget(\u001b[38;5;124m\"\u001b[39m\u001b[38;5;124mencoding_errors\u001b[39m\u001b[38;5;124m\"\u001b[39m, \u001b[38;5;124m\"\u001b[39m\u001b[38;5;124mstrict\u001b[39m\u001b[38;5;124m\"\u001b[39m),\n\u001b[0;32m   1888\u001b[0m     storage_options\u001b[38;5;241m=\u001b[39m\u001b[38;5;28mself\u001b[39m\u001b[38;5;241m.\u001b[39moptions\u001b[38;5;241m.\u001b[39mget(\u001b[38;5;124m\"\u001b[39m\u001b[38;5;124mstorage_options\u001b[39m\u001b[38;5;124m\"\u001b[39m, \u001b[38;5;28;01mNone\u001b[39;00m),\n\u001b[0;32m   1889\u001b[0m )\n\u001b[0;32m   1890\u001b[0m \u001b[38;5;28;01massert\u001b[39;00m \u001b[38;5;28mself\u001b[39m\u001b[38;5;241m.\u001b[39mhandles \u001b[38;5;129;01mis\u001b[39;00m \u001b[38;5;129;01mnot\u001b[39;00m \u001b[38;5;28;01mNone\u001b[39;00m\n\u001b[0;32m   1891\u001b[0m f \u001b[38;5;241m=\u001b[39m \u001b[38;5;28mself\u001b[39m\u001b[38;5;241m.\u001b[39mhandles\u001b[38;5;241m.\u001b[39mhandle\n",
      "File \u001b[1;32m~\\anaconda3\\Lib\\site-packages\\pandas\\io\\common.py:873\u001b[0m, in \u001b[0;36mget_handle\u001b[1;34m(path_or_buf, mode, encoding, compression, memory_map, is_text, errors, storage_options)\u001b[0m\n\u001b[0;32m    868\u001b[0m \u001b[38;5;28;01melif\u001b[39;00m \u001b[38;5;28misinstance\u001b[39m(handle, \u001b[38;5;28mstr\u001b[39m):\n\u001b[0;32m    869\u001b[0m     \u001b[38;5;66;03m# Check whether the filename is to be opened in binary mode.\u001b[39;00m\n\u001b[0;32m    870\u001b[0m     \u001b[38;5;66;03m# Binary mode does not support 'encoding' and 'newline'.\u001b[39;00m\n\u001b[0;32m    871\u001b[0m     \u001b[38;5;28;01mif\u001b[39;00m ioargs\u001b[38;5;241m.\u001b[39mencoding \u001b[38;5;129;01mand\u001b[39;00m \u001b[38;5;124m\"\u001b[39m\u001b[38;5;124mb\u001b[39m\u001b[38;5;124m\"\u001b[39m \u001b[38;5;129;01mnot\u001b[39;00m \u001b[38;5;129;01min\u001b[39;00m ioargs\u001b[38;5;241m.\u001b[39mmode:\n\u001b[0;32m    872\u001b[0m         \u001b[38;5;66;03m# Encoding\u001b[39;00m\n\u001b[1;32m--> 873\u001b[0m         handle \u001b[38;5;241m=\u001b[39m \u001b[38;5;28mopen\u001b[39m(\n\u001b[0;32m    874\u001b[0m             handle,\n\u001b[0;32m    875\u001b[0m             ioargs\u001b[38;5;241m.\u001b[39mmode,\n\u001b[0;32m    876\u001b[0m             encoding\u001b[38;5;241m=\u001b[39mioargs\u001b[38;5;241m.\u001b[39mencoding,\n\u001b[0;32m    877\u001b[0m             errors\u001b[38;5;241m=\u001b[39merrors,\n\u001b[0;32m    878\u001b[0m             newline\u001b[38;5;241m=\u001b[39m\u001b[38;5;124m\"\u001b[39m\u001b[38;5;124m\"\u001b[39m,\n\u001b[0;32m    879\u001b[0m         )\n\u001b[0;32m    880\u001b[0m     \u001b[38;5;28;01melse\u001b[39;00m:\n\u001b[0;32m    881\u001b[0m         \u001b[38;5;66;03m# Binary mode\u001b[39;00m\n\u001b[0;32m    882\u001b[0m         handle \u001b[38;5;241m=\u001b[39m \u001b[38;5;28mopen\u001b[39m(handle, ioargs\u001b[38;5;241m.\u001b[39mmode)\n",
      "\u001b[1;31mFileNotFoundError\u001b[0m: [Errno 2] No such file or directory: 'in/tables/sales_order.csv'"
     ]
    }
   ],
   "source": [
    "import pandas as pd\n",
    "#read_data\n",
    "sales_order = pd.read_csv('in/tables/sales_order.csv')\n",
    "sales_order_item = pd.read_csv('in/tables/sales_order_item.csv')\n",
    "hu = pd.read_csv('in/tables/HU_postal.csv')\n",
    "cz = pd.read_csv('in/tables/CZ_postal.csv')\n",
    "sk = pd.read_csv('in/tables/SK_postal.csv')\n",
    "\n",
    "#replace spaces in postal codes of SLovakia and Czech Republic\n",
    "cz['postal_code'] = cz['postal_code'].astype(str).str.replace(' ', '')\n",
    "sk['postal_code'] = sk['postal_code'].astype(str).str.replace(' ', '')\n",
    "cz['postal_code'] = cz['postal_code'].astype(int)\n",
    "sk['postal_code'] = sk['postal_code'].astype(int)\n",
    "cz['postal_code'] = cz['postal_code'].astype(int)\n",
    "#concat country with cities and postal codes\n",
    "postal_all = pd.concat([cz, sk, hu], ignore_index=True)\n",
    "#delete postal code duplicates\n",
    "postal_all = postal_all.drop_duplicates('postal_code')\n",
    "\n",
    "sales_order = sales_order.fillna(0)\n",
    "sales_order['postal_code'] = sales_order['postal_code'].astype(int)\n",
    "\n",
    "#add 0 on the beggining in Slovsakia postal code if it has 4 digits\n",
    "sales_order.loc[sales_order['country_code'] == 'SK', 'postal_code'] = (\n",
    "    sales_order.loc[sales_order['country_code'] == 'SK', 'postal_code']\n",
    "    .astype(str)        \n",
    "    .str.zfill(5)       \n",
    ")\n",
    "sales_order.loc[sales_order['country_code'] == 'SK']\n",
    "sales_order['postal_code'] = sales_order['postal_code'].astype(int)\n",
    "\n",
    "sales_order_m = sales_order.merge(sales_order_item, how='left', left_on = 'pk_sales_order', right_on = 'fk_sales_order')\n",
    "sales_order_city = sales_order_m.merge(postal_all, how = 'left', on=['postal_code', 'country_code'])\n",
    "sales_order_city.to_csv('out/tables/city_agg.csv', index=False)"
   ]
  },
  {
   "cell_type": "code",
   "execution_count": null,
   "id": "9d42a475-dded-4420-8a6c-d71e5b2033c9",
   "metadata": {},
   "outputs": [],
   "source": [
    "import pandas as pd\n",
    "#read data\n",
    "sales_order = pd.read_csv('in/tables/sales_order.csv')\n",
    "sales_order_item = pd.read_csv('in/tables/sales_order_item.csv')\n",
    "\n",
    "#join datasets\n",
    "sales_order_item['fk_sales_order'].value_counts()\n",
    "sales_order_m = sales_order.merge(sales_order_item, how='left', left_on = 'pk_sales_order', right_on = 'fk_sales_order')\n",
    "\n",
    "#transform cretaed_at to date \n",
    "sales_order_m['created_at'] = pd.to_datetime(sales_order_m['created_at'])\n",
    "#extract month and year\n",
    "sales_order_m['month'] = sales_order_m['created_at'].dt.month\n",
    "sales_order_m['year'] = sales_order_m['created_at'].dt.year\n",
    "\n",
    "#aggregate sales by price and cost\n",
    "sales_order_m['sold_qty'] = sales_order_m['sold_qty'].astype(int)\n",
    "sales_order_m['sell_price'] = (sales_order_m['product_price_local_currency'] * sales_order_m['currency_rate'] * sales_order_m['sold_qty']) \n",
    "sales_order_m['cost'] = sales_order_m['product_cost_eur']*sales_order_m['sold_qty']\n",
    "monthly = sales_order_m.groupby(['year', 'month', 'fk_item']).agg(\n",
    "    total_sell = ('sell_price', 'sum'),\n",
    "    total_cost = ('cost', 'sum')\n",
    ").reset_index()\n",
    "\n",
    "#calculate avg monthly margin\n",
    "monthly['monthly_margin'] = ((monthly['total_sell'] - monthly['total_cost']) / monthly['total_sell']).round(4)\n",
    "monthly = monthly[monthly['total_sell'] != 0]\n",
    "monthly.to_csv('out/tables/monthly_margin.csv', index=False)"
   ]
  },
  {
   "cell_type": "code",
   "execution_count": null,
   "id": "42ff0fc8-5622-48dd-a0d8-c682dcefa034",
   "metadata": {},
   "outputs": [],
   "source": [
    "import pandas as pd\n",
    "sales_order = pd.read_csv('in/tables/sales_order.csv')\n",
    "sales_order_item = pd.read_csv('in/tables/sales_order_item.csv')\n",
    "sales_order_m = sales_order.merge(sales_order_item, how='left', left_on = 'pk_sales_order', right_on = 'fk_sales_order')\n",
    "sales_order_m['sell_price'] = (sales_order_m['product_price_local_currency'] * sales_order_m['currency_rate'] * sales_order_m['sold_qty']) \n",
    "from itertools import combinations\n",
    "\n",
    "#create dataset without gift\n",
    "no_prize = sales_order_m[sales_order_m['sell_price'] != 0].copy()\n",
    "no_prize['fk_item'] = no_prize['fk_item'].astype('string')\n",
    "no_prize = no_prize.dropna(subset=['fk_item'])\n",
    "\n",
    "#aggregate by order and create list of items\n",
    "no_prize_agg = no_prize.groupby('pk_sales_order')['fk_item'].agg(list).reset_index()\n",
    "#combine in every possible pairs + filter if order has inly one item\n",
    "pairs = no_prize_agg['fk_item'].apply(lambda items: list(combinations(items, 2)) if len(items) >= 2 else []).explode().dropna()\n",
    "\n",
    "#top 10 pairs\n",
    "pair_counts = pairs.value_counts().reset_index(name='count').rename(columns={'index':'pair'})\n",
    "total_orders = (no_prize_agg['fk_item'].str.len() >= 2).sum()\n",
    "pair_counts['percantage(%)'] = ((pair_counts['count'] / total_orders) * 100).round(2)\n",
    "top10 = pair_counts.sort_values('count', ascending=False).head(10)\n",
    "\n",
    "top10.to_csv('out/tables/top10_pairs.csv', index=False)"
   ]
  }
 ],
 "metadata": {
  "kernelspec": {
   "display_name": "Python 3 (ipykernel)",
   "language": "python",
   "name": "python3"
  },
  "language_info": {
   "codemirror_mode": {
    "name": "ipython",
    "version": 3
   },
   "file_extension": ".py",
   "mimetype": "text/x-python",
   "name": "python",
   "nbconvert_exporter": "python",
   "pygments_lexer": "ipython3",
   "version": "3.12.4"
  }
 },
 "nbformat": 4,
 "nbformat_minor": 5
}
